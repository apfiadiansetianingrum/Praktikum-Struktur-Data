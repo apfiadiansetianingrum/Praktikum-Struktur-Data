{
  "nbformat": 4,
  "nbformat_minor": 0,
  "metadata": {
    "colab": {
      "provenance": [],
      "authorship_tag": "ABX9TyPY/5xOz3h32urIxEAYnax7",
      "include_colab_link": true
    },
    "kernelspec": {
      "name": "python3",
      "display_name": "Python 3"
    },
    "language_info": {
      "name": "python"
    }
  },
  "cells": [
    {
      "cell_type": "markdown",
      "metadata": {
        "id": "view-in-github",
        "colab_type": "text"
      },
      "source": [
        "<a href=\"https://colab.research.google.com/github/apfiadiansetianingrum/Praktikum-Struktur-Data/blob/main/2410506004_Tugas_Strukdat_LinkedList.ipynb\" target=\"_parent\"><img src=\"https://colab.research.google.com/assets/colab-badge.svg\" alt=\"Open In Colab\"/></a>"
      ]
    },
    {
      "cell_type": "code",
      "source": [
        "#tugas\n",
        "class Node:\n",
        "    def __init__(self, name):\n",
        "        self.name = name\n",
        "        self.next = None\n",
        "\n",
        "class CircularLinkedList:\n",
        "    def __init__(self):\n",
        "        self.head = None\n",
        "\n",
        "    def append(self, name):\n",
        "        new_node = Node(name)\n",
        "        if not self.head:\n",
        "            self.head = new_node\n",
        "            self.head.next = self.head\n",
        "        else:\n",
        "            temp = self.head\n",
        "            while temp.next != self.head:\n",
        "                temp = temp.next\n",
        "            temp.next = new_node\n",
        "            new_node.next = self.head\n",
        "\n",
        "    def print_schedule(self, days):\n",
        "        if not self.head:\n",
        "            print(\"Tidak ada satpam yang bertugas.\")\n",
        "            return\n",
        "\n",
        "        current = self.head\n",
        "        for day in range(1, days + 1):\n",
        "            print(f\"Hari {day}: {current.name}\")\n",
        "            current = current.next\n",
        "\n",
        "#input dari pengguna\n",
        "satpam_list = []\n",
        "for i in range(4):\n",
        "    nama = input(f\"Masukkan nama satpam ke-{i+1}: \")\n",
        "    satpam_list.append(nama)\n",
        "\n",
        "#circular linked list\n",
        "circular_list = CircularLinkedList()\n",
        "for satpam in satpam_list:\n",
        "    circular_list.append(satpam)\n",
        "\n",
        "#cetak jadwal\n",
        "print(\"\\nJadwal Piket Satpam Selama 2 Minggu:\")\n",
        "circular_list.print_schedule(14)"
      ],
      "metadata": {
        "colab": {
          "base_uri": "https://localhost:8080/"
        },
        "id": "d8Gls6s0YT6U",
        "outputId": "f5c1c5fc-fd83-47a3-d60a-0d43cdcaf123"
      },
      "execution_count": 1,
      "outputs": [
        {
          "output_type": "stream",
          "name": "stdout",
          "text": [
            "Masukkan nama satpam ke-1: apfia\n",
            "Masukkan nama satpam ke-2: david\n",
            "Masukkan nama satpam ke-3: yogi\n",
            "Masukkan nama satpam ke-4: ferdi\n",
            "\n",
            "Jadwal Piket Satpam Selama 2 Minggu:\n",
            "Hari 1: apfia\n",
            "Hari 2: david\n",
            "Hari 3: yogi\n",
            "Hari 4: ferdi\n",
            "Hari 5: apfia\n",
            "Hari 6: david\n",
            "Hari 7: yogi\n",
            "Hari 8: ferdi\n",
            "Hari 9: apfia\n",
            "Hari 10: david\n",
            "Hari 11: yogi\n",
            "Hari 12: ferdi\n",
            "Hari 13: apfia\n",
            "Hari 14: david\n"
          ]
        }
      ]
    },
    {
      "cell_type": "code",
      "source": [],
      "metadata": {
        "id": "VlnQM47YYbyO"
      },
      "execution_count": null,
      "outputs": []
    }
  ]
}