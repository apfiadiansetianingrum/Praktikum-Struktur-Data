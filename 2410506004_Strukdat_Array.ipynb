{
  "nbformat": 4,
  "nbformat_minor": 0,
  "metadata": {
    "colab": {
      "provenance": [],
      "authorship_tag": "ABX9TyNJI87NYVad6uT1W0YGjfIJ",
      "include_colab_link": true
    },
    "kernelspec": {
      "name": "python3",
      "display_name": "Python 3"
    },
    "language_info": {
      "name": "python"
    }
  },
  "cells": [
    {
      "cell_type": "markdown",
      "metadata": {
        "id": "view-in-github",
        "colab_type": "text"
      },
      "source": [
        "<a href=\"https://colab.research.google.com/github/apfiadiansetianingrum/Praktikum-Struktur-Data/blob/main/2410506004_Strukdat_Array.ipynb\" target=\"_parent\"><img src=\"https://colab.research.google.com/assets/colab-badge.svg\" alt=\"Open In Colab\"/></a>"
      ]
    },
    {
      "cell_type": "code",
      "source": [
        "angka = [10, 20, 30, 40, 50]\n",
        "print(\"array dengan list:\", angka)"
      ],
      "metadata": {
        "colab": {
          "base_uri": "https://localhost:8080/"
        },
        "id": "8ohM0dN2CGrU",
        "outputId": "82e7de3b-a1e4-4ce8-8c27-8e76c564c563"
      },
      "execution_count": 1,
      "outputs": [
        {
          "output_type": "stream",
          "name": "stdout",
          "text": [
            "array dengan list: [10, 20, 30, 40, 50]\n"
          ]
        }
      ]
    },
    {
      "cell_type": "code",
      "source": [
        "import array\n",
        "angka = array.array('i', [10, 20, 30, 40, 50])\n",
        "print(\"array dengan modul array:\", angka)"
      ],
      "metadata": {
        "colab": {
          "base_uri": "https://localhost:8080/"
        },
        "id": "h6PCihKwCX47",
        "outputId": "b904c404-8790-442d-89ff-693be7c197a7"
      },
      "execution_count": null,
      "outputs": [
        {
          "output_type": "stream",
          "name": "stdout",
          "text": [
            "array dengan modul array: array('i', [10, 20, 30, 40, 50])\n"
          ]
        }
      ]
    },
    {
      "cell_type": "code",
      "source": [
        "import numpy as np\n",
        "angka = np.array([10,20,30,40,50])\n",
        "print(\"array dengan numpy:\", angka)"
      ],
      "metadata": {
        "colab": {
          "base_uri": "https://localhost:8080/"
        },
        "id": "xA_WR-sICzDc",
        "outputId": "d0f9db4f-56bd-4512-93fa-c7b0cd2e64f6"
      },
      "execution_count": null,
      "outputs": [
        {
          "output_type": "stream",
          "name": "stdout",
          "text": [
            "array dengan numpy: [10 20 30 40 50]\n"
          ]
        }
      ]
    },
    {
      "cell_type": "code",
      "source": [
        "import numpy as np\n",
        "angka = np.array([10,20,30,40,50])\n",
        "print(\"array satu dimensi:\", angka)"
      ],
      "metadata": {
        "colab": {
          "base_uri": "https://localhost:8080/"
        },
        "id": "0lBKImz6DcYT",
        "outputId": "fe84164b-080e-4a2f-c41e-2933dbbda4e7"
      },
      "execution_count": null,
      "outputs": [
        {
          "output_type": "stream",
          "name": "stdout",
          "text": [
            "array satu dimensi: [10 20 30 40 50]\n"
          ]
        }
      ]
    },
    {
      "cell_type": "code",
      "source": [
        "matriks = np.array([[1, 2], [3,4], [5,6]])\n",
        "print(\"array dua dimensi:\", matriks)"
      ],
      "metadata": {
        "colab": {
          "base_uri": "https://localhost:8080/"
        },
        "id": "w5OJkOrDDyEb",
        "outputId": "fe36f9d1-21db-4f02-8f4e-51b49103ad36"
      },
      "execution_count": null,
      "outputs": [
        {
          "output_type": "stream",
          "name": "stdout",
          "text": [
            "array dua dimensi: [[1 2]\n",
            " [3 4]\n",
            " [5 6]]\n"
          ]
        }
      ]
    },
    {
      "cell_type": "code",
      "source": [
        "array3d = np.array([[[1,2], [3,4]], [[5, 6], [7, 8]]])\n",
        "print(\"array tiga dimensi:\", array3d)"
      ],
      "metadata": {
        "colab": {
          "base_uri": "https://localhost:8080/"
        },
        "id": "6wdXQjzSEId7",
        "outputId": "909588b2-9c50-45c5-9966-c10ceff2c318"
      },
      "execution_count": null,
      "outputs": [
        {
          "output_type": "stream",
          "name": "stdout",
          "text": [
            "array tiga dimensi: [[[1 2]\n",
            "  [3 4]]\n",
            "\n",
            " [[5 6]\n",
            "  [7 8]]]\n"
          ]
        }
      ]
    },
    {
      "cell_type": "code",
      "source": [
        "angka = [10,20,30,40,50]\n",
        "print(\"elemen pertama:\", angka[0])\n",
        "print(\"elemen terakhir:\", angka[-1])\n",
        "\n",
        "angka.append(60)\n",
        "print(\"setelah append:\", angka)\n",
        "\n",
        "angka.remove(30)\n",
        "print(\"setelah remove:\", angka)\n",
        "\n",
        "for nilai in angka:\n",
        "  print(\"nilai:\", nilai)"
      ],
      "metadata": {
        "colab": {
          "base_uri": "https://localhost:8080/"
        },
        "id": "9B3KGiw4ErhC",
        "outputId": "d033a4ed-6a40-4330-dae0-780f6bdc074f"
      },
      "execution_count": null,
      "outputs": [
        {
          "output_type": "stream",
          "name": "stdout",
          "text": [
            "elemen pertama: 10\n",
            "elemen terakhir: 50\n",
            "setelah append: [10, 20, 30, 40, 50, 60]\n",
            "setelah remove: [10, 20, 40, 50, 60]\n",
            "nilai: 10\n",
            "nilai: 20\n",
            "nilai: 40\n",
            "nilai: 50\n",
            "nilai: 60\n"
          ]
        }
      ]
    },
    {
      "cell_type": "code",
      "source": [
        "#LANGKAH PRAKTIKUM\n",
        "\n",
        "#lat 1\n",
        "datanpm = [2410506004, 2410506005, 2410506006, 2410506007, 2410506008]\n",
        "print(\"Data NPM:\", datanpm)"
      ],
      "metadata": {
        "colab": {
          "base_uri": "https://localhost:8080/"
        },
        "id": "dyV_O3XeIvzg",
        "outputId": "3d4ef1df-af27-469d-c582-983e0c3deb5d"
      },
      "execution_count": 4,
      "outputs": [
        {
          "output_type": "stream",
          "name": "stdout",
          "text": [
            "Data NPM: [2410506004, 2410506005, 2410506006, 2410506007, 2410506008]\n"
          ]
        }
      ]
    },
    {
      "cell_type": "code",
      "source": [
        "angka = [10,20,30,40,50]\n",
        "print(\"elemen pertama:\", angka[0])\n",
        "print(\"elemen terakhir:\", angka[-1])\n",
        "\n",
        "angka.append(60)\n",
        "print(\"setelah append:\", angka)\n",
        "\n",
        "angka.insert(2, 25)\n",
        "print(\"setelah insert:\", angka)\n",
        "\n",
        "angka.remove(25)\n",
        "print(\"setelah remove:\", angka)\n",
        "\n",
        "angka.pop(2)\n",
        "print(\"setelah pop:\", angka)\n",
        "\n",
        "angka[0] = 100\n",
        "print(\"setelah mengubah elemen pertama:\", angka)\n"
      ],
      "metadata": {
        "colab": {
          "base_uri": "https://localhost:8080/"
        },
        "id": "vt2rSWr9KsPH",
        "outputId": "45436da7-3230-4aa0-9841-ae04bd375ec2"
      },
      "execution_count": null,
      "outputs": [
        {
          "output_type": "stream",
          "name": "stdout",
          "text": [
            "elemen pertama: 10\n",
            "elemen terakhir: 50\n",
            "setelah append: [10, 20, 30, 40, 50, 60]\n",
            "setelah insert: [10, 20, 25, 30, 40, 50, 60]\n",
            "setelah remove: [10, 20, 30, 40, 50, 60]\n",
            "setelah pop: [10, 20, 40, 50, 60]\n",
            "setelah mengubah elemen pertama: [100, 20, 40, 50, 60]\n",
            "nilai: 100\n",
            "nilai: 20\n",
            "nilai: 40\n",
            "nilai: 50\n",
            "nilai: 60\n"
          ]
        }
      ]
    },
    {
      "cell_type": "code",
      "source": [
        "#lat2\n",
        "\n",
        "angka = [10,20,30,40,50]\n",
        "\n",
        "angka.append(4)\n",
        "print(\"Array setelah ditambah 2 digit npm:\", angka)\n",
        "\n",
        "angka.pop(0)\n",
        "print(\"array setelah dihapus elemen pertama:\", angka)"
      ],
      "metadata": {
        "colab": {
          "base_uri": "https://localhost:8080/"
        },
        "id": "w25VezqMLVPg",
        "outputId": "a1506884-3bb1-4262-f0dd-28196a7c4ff9"
      },
      "execution_count": null,
      "outputs": [
        {
          "output_type": "stream",
          "name": "stdout",
          "text": [
            "Array setelah ditambah 2 digit npm: [10, 20, 30, 40, 50, 4]\n",
            "array setelah dihapus elemen pertama: [20, 30, 40, 50, 4]\n"
          ]
        }
      ]
    },
    {
      "cell_type": "code",
      "source": [
        "angka = [10,20,30,40,50]\n",
        "\n",
        "for nilai in angka:\n",
        "  print(\"nilai:\", nilai)"
      ],
      "metadata": {
        "colab": {
          "base_uri": "https://localhost:8080/"
        },
        "id": "DMcyFXyONJyO",
        "outputId": "619690c3-3925-48d6-82c6-3aa385560281"
      },
      "execution_count": null,
      "outputs": [
        {
          "output_type": "stream",
          "name": "stdout",
          "text": [
            "nilai: 10\n",
            "nilai: 20\n",
            "nilai: 30\n",
            "nilai: 40\n",
            "nilai: 50\n"
          ]
        }
      ]
    },
    {
      "cell_type": "code",
      "source": [
        "#lat3\n",
        "fakultas = [\"Teknik\", \"Ekonomi\", \"FAPERTA\", \"FISIPOL\", \"FKIP\"]\n",
        "\n",
        "for nama in fakultas:\n",
        "  print(\"Fakultas di Untidar:\", nama)"
      ],
      "metadata": {
        "colab": {
          "base_uri": "https://localhost:8080/"
        },
        "id": "KDZ2ne1AOqEd",
        "outputId": "a5f0b34e-a7d3-45ad-e30f-9b32d5f161f5"
      },
      "execution_count": null,
      "outputs": [
        {
          "output_type": "stream",
          "name": "stdout",
          "text": [
            "Fakultas di Untidar: Teknik\n",
            "Fakultas di Untidar: Ekonomi\n",
            "Fakultas di Untidar: FAPERTA\n",
            "Fakultas di Untidar: FISIPOL\n",
            "Fakultas di Untidar: FKIP\n"
          ]
        }
      ]
    },
    {
      "cell_type": "code",
      "source": [
        "angka = [10,20,30,40,50]\n",
        "\n",
        "print(\"jumlah total:\", sum(angka))\n",
        "print(\"nilai max:\", max(angka))\n",
        "print(\"nilai min:\", min(angka))"
      ],
      "metadata": {
        "colab": {
          "base_uri": "https://localhost:8080/"
        },
        "id": "BcfmbSj9PcuF",
        "outputId": "0b113086-a208-4162-ede2-56438b4786f1"
      },
      "execution_count": null,
      "outputs": [
        {
          "output_type": "stream",
          "name": "stdout",
          "text": [
            "jumlah total: 150\n",
            "nilai max: 50\n",
            "nilai min: 10\n"
          ]
        }
      ]
    },
    {
      "cell_type": "code",
      "source": [
        "#lat4\n",
        "\n",
        "hargabarang = [4000, 1000, 2000, 7000, 5000]\n",
        "\n",
        "print(\"jumlah total:\", sum(hargabarang))\n",
        "print(\"nilai max:\", max(hargabarang))\n",
        "print(\"nilai min:\", min(hargabarang))"
      ],
      "metadata": {
        "colab": {
          "base_uri": "https://localhost:8080/"
        },
        "id": "X0lOw9wdSr7z",
        "outputId": "67cdd437-f5f0-4b61-d631-25f0f5856b3a"
      },
      "execution_count": null,
      "outputs": [
        {
          "output_type": "stream",
          "name": "stdout",
          "text": [
            "jumlah total: 19000\n",
            "nilai max: 7000\n",
            "nilai min: 1000\n"
          ]
        }
      ]
    },
    {
      "cell_type": "code",
      "source": [
        "matriks = [\n",
        "    [1, 2, 3],\n",
        "    [4, 5, 6],\n",
        "    [7, 8, 9]\n",
        "]\n",
        "\n",
        "print(\"isi array 2d:\")\n",
        "for baris in matriks:\n",
        "  print(baris)"
      ],
      "metadata": {
        "colab": {
          "base_uri": "https://localhost:8080/"
        },
        "id": "zM-WOYZwTFvK",
        "outputId": "16b1c679-9a05-435c-a53e-95a20befeb88"
      },
      "execution_count": null,
      "outputs": [
        {
          "output_type": "stream",
          "name": "stdout",
          "text": [
            "isi array 2d:\n",
            "[1, 2, 3]\n",
            "[4, 5, 6]\n",
            "[7, 8, 9]\n"
          ]
        }
      ]
    },
    {
      "cell_type": "code",
      "source": [
        "#lat5\n",
        "\n",
        "matriks = [\n",
        "    [1, 2, 3, 4],\n",
        "    [5, 6, 7, 8],\n",
        "    [9, 10, 11, 12]\n",
        "]\n",
        "\n",
        "print(\"isi array 2d:\")\n",
        "for baris in matriks:\n",
        "  print(baris)"
      ],
      "metadata": {
        "colab": {
          "base_uri": "https://localhost:8080/"
        },
        "id": "NK4U-nDITjbS",
        "outputId": "c1fcfdf0-53d9-44d9-ded3-4093515c4df5"
      },
      "execution_count": null,
      "outputs": [
        {
          "output_type": "stream",
          "name": "stdout",
          "text": [
            "isi array 2d:\n",
            "[1, 2, 3, 4]\n",
            "[5, 6, 7, 8]\n",
            "[9, 10, 11, 12]\n"
          ]
        }
      ]
    },
    {
      "cell_type": "code",
      "source": [
        "matriks = [\n",
        "    [1, 2, 3],\n",
        "    [4, 5, 6],\n",
        "    [7, 8, 9]\n",
        "]\n",
        "\n",
        "print(\"elemen pada baris 1, kolom 2:\", matriks[0][1])\n",
        "print(\"elemen terakhir:\", matriks[-1][-1])"
      ],
      "metadata": {
        "colab": {
          "base_uri": "https://localhost:8080/"
        },
        "id": "GSfXTRU5UJti",
        "outputId": "ff11b905-2593-4601-c12e-651b67c3d521"
      },
      "execution_count": null,
      "outputs": [
        {
          "output_type": "stream",
          "name": "stdout",
          "text": [
            "elemen pada baris 1, kolom 2: 2\n",
            "elemen terakhir: 9\n"
          ]
        }
      ]
    },
    {
      "cell_type": "code",
      "source": [
        "#lat6\n",
        "\n",
        "matriks = [\n",
        "    [1, 2, 3, 4],\n",
        "    [5, 6, 7, 8],\n",
        "    [9, 10, 11, 12]\n",
        "]\n",
        "\n",
        "print(\"elemen pada baris 2, kolom 4:\", matriks[1][3])\n"
      ],
      "metadata": {
        "colab": {
          "base_uri": "https://localhost:8080/"
        },
        "id": "-uqgkfzaUlKy",
        "outputId": "0caf9ae0-9374-44a5-fcee-8c630b378788"
      },
      "execution_count": null,
      "outputs": [
        {
          "output_type": "stream",
          "name": "stdout",
          "text": [
            "elemen pada baris 2, kolom 4: 8\n"
          ]
        }
      ]
    },
    {
      "cell_type": "code",
      "source": [
        "matriks = [\n",
        "    [1, 2, 3],\n",
        "    [4, 5, 6],\n",
        "    [7, 8, 9]\n",
        "]\n",
        "\n",
        "matriks.append([10, 11, 12])\n",
        "print(\"setelah append:\", matriks)\n",
        "\n",
        "matriks[1].append(99)\n",
        "print(\"setelah append2:\", matriks)"
      ],
      "metadata": {
        "colab": {
          "base_uri": "https://localhost:8080/"
        },
        "id": "zZnshM63U_wK",
        "outputId": "f33b1049-8ac7-4686-d30f-fe51bbb47474"
      },
      "execution_count": null,
      "outputs": [
        {
          "output_type": "stream",
          "name": "stdout",
          "text": [
            "setelah append: [[1, 2, 3], [4, 5, 6], [7, 8, 9], [10, 11, 12]]\n",
            "setelah append2: [[1, 2, 3], [4, 5, 6, 99], [7, 8, 9], [10, 11, 12]]\n"
          ]
        }
      ]
    },
    {
      "cell_type": "code",
      "source": [
        "#lat7\n",
        "\n",
        "matriks = [\n",
        "    [1, 2, 3, 4],\n",
        "    [5, 6, 7, 8],\n",
        "    [9, 10, 11, 12]\n",
        "]\n",
        "\n",
        "matriks.append([22, 5, 20, 6])\n",
        "print(\"array setelah append:\", matriks)"
      ],
      "metadata": {
        "colab": {
          "base_uri": "https://localhost:8080/"
        },
        "id": "Xt801NKgVfpJ",
        "outputId": "0ccb3274-99e1-4b7d-b5f2-c85f2380aeca"
      },
      "execution_count": null,
      "outputs": [
        {
          "output_type": "stream",
          "name": "stdout",
          "text": [
            "array setelah append: [[1, 2, 3, 4], [5, 6, 7, 8], [9, 10, 11, 12], [22, 5, 20, 6]]\n"
          ]
        }
      ]
    },
    {
      "cell_type": "code",
      "source": [
        "matriks = [\n",
        "    [1, 2, 3],\n",
        "    [4, 5, 6],\n",
        "    [7, 8, 9]\n",
        "]\n",
        "\n",
        "matriks[0].remove(2)\n",
        "print(\"setelah remove:\", matriks)\n",
        "\n",
        "matriks[1].pop(1)\n",
        "print(\"setelah pop:\", matriks)"
      ],
      "metadata": {
        "colab": {
          "base_uri": "https://localhost:8080/"
        },
        "id": "wOtYc3KSV_hh",
        "outputId": "fc0d6d85-494e-4fd9-e102-3e8c4d31bf92"
      },
      "execution_count": null,
      "outputs": [
        {
          "output_type": "stream",
          "name": "stdout",
          "text": [
            "setelah remove: [[1, 3], [4, 5, 6], [7, 8, 9]]\n",
            "setelah pop: [[1, 3], [4, 6], [7, 8, 9]]\n"
          ]
        }
      ]
    },
    {
      "cell_type": "code",
      "source": [
        "#lat8\n",
        "\n",
        "matriks = [\n",
        "    [1, 2, 3, 4],\n",
        "    [5, 6, 7, 8],\n",
        "    [9, 10, 11, 12],\n",
        "    [22, 5, 20, 6]\n",
        "]\n",
        "\n",
        "matriks[3].pop(3)\n",
        "print(\"setelah pop:\", matriks)"
      ],
      "metadata": {
        "colab": {
          "base_uri": "https://localhost:8080/"
        },
        "id": "GyycozeIWnqx",
        "outputId": "3fb4d6e8-482c-4ba5-f325-b9e89f853563"
      },
      "execution_count": null,
      "outputs": [
        {
          "output_type": "stream",
          "name": "stdout",
          "text": [
            "setelah pop: [[1, 2, 3, 4], [5, 6, 7, 8], [9, 10, 11, 12], [22, 5, 20]]\n"
          ]
        }
      ]
    },
    {
      "cell_type": "code",
      "source": [
        "matriks = [\n",
        "    [1, 2, 3],\n",
        "    [4, 5, 6],\n",
        "    [7, 8, 9]\n",
        "]\n",
        "\n",
        "matriks[2][1] = 88\n",
        "print(\"setelah mengubah elemen:\", matriks)"
      ],
      "metadata": {
        "colab": {
          "base_uri": "https://localhost:8080/"
        },
        "id": "_p3TBH98XOWB",
        "outputId": "9aab793e-3394-48db-b8f2-a3af3703b2e5"
      },
      "execution_count": null,
      "outputs": [
        {
          "output_type": "stream",
          "name": "stdout",
          "text": [
            "setelah mengubah elemen: [[1, 2, 3], [4, 5, 6], [7, 88, 9]]\n"
          ]
        }
      ]
    },
    {
      "cell_type": "code",
      "source": [
        "#lat9\n",
        "\n",
        "matriks = [\n",
        "    [1, 2, 3, 4],\n",
        "    [5, 6, 7, 8],\n",
        "    [9, 10, 11, 12],\n",
        "    [22, 5, 20, 6]\n",
        "]\n",
        "\n",
        "matriks[-1][-1] = 14\n",
        "print(\"setelah mengubah elemen:\", matriks)"
      ],
      "metadata": {
        "colab": {
          "base_uri": "https://localhost:8080/"
        },
        "id": "O83gzRouX3U4",
        "outputId": "07a62755-f8f8-498c-8bc3-f8e1eaba304f"
      },
      "execution_count": null,
      "outputs": [
        {
          "output_type": "stream",
          "name": "stdout",
          "text": [
            "setelah mengubah elemen: [[1, 2, 3, 4], [5, 6, 7, 8], [9, 10, 11, 12], [22, 5, 20, 14]]\n"
          ]
        }
      ]
    },
    {
      "cell_type": "code",
      "source": [
        "#lat10\n",
        "\n",
        "belanja = [\"bedak\", \"liptint\", \"kutek\", \"soflen\", \"blushon\"]\n",
        "print(\"elemen pertama:\", belanja[0])\n",
        "print(\"elemen terakhir:\", belanja[-1])\n",
        "\n",
        "belanja.append(\"pensilalis\")\n",
        "print(\"setelah append:\", belanja)\n",
        "\n",
        "belanja.insert(2, \"serum\")\n",
        "print(\"setelah insert:\", belanja)\n",
        "\n",
        "belanja.remove(\"bedak\")\n",
        "print(\"setelah remove:\", belanja)\n",
        "\n",
        "belanja.pop(2)\n",
        "print(\"setelah pop:\", belanja)\n",
        "\n",
        "belanja[2] = \"moist\"\n",
        "print(\"setelah mengubah:\", belanja)"
      ],
      "metadata": {
        "colab": {
          "base_uri": "https://localhost:8080/"
        },
        "id": "LjmuvpMFYVNI",
        "outputId": "8ee0d296-3f19-4fad-8ea5-5eb96f6591b1"
      },
      "execution_count": null,
      "outputs": [
        {
          "output_type": "stream",
          "name": "stdout",
          "text": [
            "elemen pertama: bedak\n",
            "elemen terakhir: blushon\n",
            "setelah append: ['bedak', 'liptint', 'kutek', 'soflen', 'blushon', 'pensilalis']\n",
            "setelah insert: ['bedak', 'liptint', 'serum', 'kutek', 'soflen', 'blushon', 'pensilalis']\n",
            "setelah remove: ['liptint', 'serum', 'kutek', 'soflen', 'blushon', 'pensilalis']\n",
            "setelah pop: ['liptint', 'serum', 'soflen', 'blushon', 'pensilalis']\n",
            "setelah mengubah elemen pertama: ['liptint', 'serum', 'moist', 'blushon', 'pensilalis']\n"
          ]
        }
      ]
    },
    {
      "cell_type": "code",
      "source": [],
      "metadata": {
        "id": "J9Mhm9bsLFbU"
      },
      "execution_count": null,
      "outputs": []
    }
  ]
}