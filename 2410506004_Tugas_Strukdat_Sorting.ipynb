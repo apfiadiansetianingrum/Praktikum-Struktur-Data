{
  "nbformat": 4,
  "nbformat_minor": 0,
  "metadata": {
    "colab": {
      "provenance": [],
      "authorship_tag": "ABX9TyPNBJlnAyYyPu59idqas7t1",
      "include_colab_link": true
    },
    "kernelspec": {
      "name": "python3",
      "display_name": "Python 3"
    },
    "language_info": {
      "name": "python"
    }
  },
  "cells": [
    {
      "cell_type": "markdown",
      "metadata": {
        "id": "view-in-github",
        "colab_type": "text"
      },
      "source": [
        "<a href=\"https://colab.research.google.com/github/apfiadiansetianingrum/Praktikum-Struktur-Data/blob/main/2410506004_Tugas_Strukdat_Sorting.ipynb\" target=\"_parent\"><img src=\"https://colab.research.google.com/assets/colab-badge.svg\" alt=\"Open In Colab\"/></a>"
      ]
    },
    {
      "cell_type": "code",
      "execution_count": 1,
      "metadata": {
        "colab": {
          "base_uri": "https://localhost:8080/"
        },
        "id": "U-CkrsiX6czl",
        "outputId": "187745e0-2063-4845-b28d-8eb9bd2340ea"
      },
      "outputs": [
        {
          "output_type": "stream",
          "name": "stdout",
          "text": [
            "Data pelanggan diurutkan berdasarkan nama:\n",
            "{'nama': 'Ayu', 'umur': 25, 'total_belanja': 700000}\n",
            "{'nama': 'Budi', 'umur': 28, 'total_belanja': 200000}\n",
            "{'nama': 'Dina', 'umur': 22, 'total_belanja': 900000}\n",
            "{'nama': 'Zaki', 'umur': 30, 'total_belanja': 500000}\n",
            "\n",
            "Data pelanggan diurutkan berdasarkan umur:\n",
            "{'nama': 'Dina', 'umur': 22, 'total_belanja': 900000}\n",
            "{'nama': 'Ayu', 'umur': 25, 'total_belanja': 700000}\n",
            "{'nama': 'Budi', 'umur': 28, 'total_belanja': 200000}\n",
            "{'nama': 'Zaki', 'umur': 30, 'total_belanja': 500000}\n",
            "\n",
            "Data pelanggan diurutkan berdasarkan total belanja:\n",
            "{'nama': 'Budi', 'umur': 28, 'total_belanja': 200000}\n",
            "{'nama': 'Zaki', 'umur': 30, 'total_belanja': 500000}\n",
            "{'nama': 'Ayu', 'umur': 25, 'total_belanja': 700000}\n",
            "{'nama': 'Dina', 'umur': 22, 'total_belanja': 900000}\n"
          ]
        }
      ],
      "source": [
        "#tugas\n",
        "def merge_sort(data, key):\n",
        "    if len(data) > 1:\n",
        "        mid = len(data) // 2\n",
        "        left_half = data[:mid]\n",
        "        right_half = data[mid:]\n",
        "\n",
        "        merge_sort(left_half, key)\n",
        "        merge_sort(right_half, key)\n",
        "\n",
        "        i = j = k = 0\n",
        "\n",
        "        while i < len(left_half) and j < len(right_half):\n",
        "            if left_half[i][key] < right_half[j][key]:\n",
        "                data[k] = left_half[i]\n",
        "                i += 1\n",
        "            else:\n",
        "                data[k] = right_half[j]\n",
        "                j += 1\n",
        "            k += 1\n",
        "\n",
        "        while i < len(left_half):\n",
        "            data[k] = left_half[i]\n",
        "            i += 1\n",
        "            k += 1\n",
        "\n",
        "        while j < len(right_half):\n",
        "            data[k] = right_half[j]\n",
        "            j += 1\n",
        "            k += 1\n",
        "\n",
        "#contoh daftar pelanggan\n",
        "pelanggan = [\n",
        "    {\"nama\": \"Zaki\", \"umur\": 30, \"total_belanja\": 500000},\n",
        "    {\"nama\": \"Ayu\", \"umur\": 25, \"total_belanja\": 700000},\n",
        "    {\"nama\": \"Budi\", \"umur\": 28, \"total_belanja\": 200000},\n",
        "    {\"nama\": \"Dina\", \"umur\": 22, \"total_belanja\": 900000}\n",
        "]\n",
        "\n",
        "#berdasarkan nama\n",
        "merge_sort(pelanggan, \"nama\")\n",
        "print(\"Data pelanggan diurutkan berdasarkan nama:\")\n",
        "for p in pelanggan:\n",
        "    print(p)\n",
        "\n",
        "#berdasarkan umur\n",
        "merge_sort(pelanggan, \"umur\")\n",
        "print(\"\\nData pelanggan diurutkan berdasarkan umur:\")\n",
        "for p in pelanggan:\n",
        "    print(p)\n",
        "\n",
        "#berdasarkan total belanja\n",
        "merge_sort(pelanggan, \"total_belanja\")\n",
        "print(\"\\nData pelanggan diurutkan berdasarkan total belanja:\")\n",
        "for p in pelanggan:\n",
        "    print(p)"
      ]
    },
    {
      "cell_type": "code",
      "source": [],
      "metadata": {
        "id": "TjinAjpz61NS"
      },
      "execution_count": null,
      "outputs": []
    }
  ]
}