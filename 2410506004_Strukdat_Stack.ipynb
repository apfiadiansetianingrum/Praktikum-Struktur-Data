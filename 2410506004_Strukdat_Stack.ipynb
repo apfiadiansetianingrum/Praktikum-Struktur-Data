{
  "nbformat": 4,
  "nbformat_minor": 0,
  "metadata": {
    "colab": {
      "provenance": [],
      "authorship_tag": "ABX9TyNyFdZaWs2rgtZ9GX8wp1Hs",
      "include_colab_link": true
    },
    "kernelspec": {
      "name": "python3",
      "display_name": "Python 3"
    },
    "language_info": {
      "name": "python"
    }
  },
  "cells": [
    {
      "cell_type": "markdown",
      "metadata": {
        "id": "view-in-github",
        "colab_type": "text"
      },
      "source": [
        "<a href=\"https://colab.research.google.com/github/apfiadiansetianingrum/Praktikum-Struktur-Data/blob/main/2410506004_Strukdat_Stack.ipynb\" target=\"_parent\"><img src=\"https://colab.research.google.com/assets/colab-badge.svg\" alt=\"Open In Colab\"/></a>"
      ]
    },
    {
      "cell_type": "code",
      "execution_count": null,
      "metadata": {
        "colab": {
          "base_uri": "https://localhost:8080/"
        },
        "id": "dKZ1AArmHTKX",
        "outputId": "7b3b7a53-e796-4a77-d4d3-7961861ccdb6"
      },
      "outputs": [
        {
          "output_type": "stream",
          "name": "stdout",
          "text": [
            "[5]\n"
          ]
        }
      ],
      "source": [
        "#push\n",
        "class Stack:\n",
        "  def __init__(self):\n",
        "    self.stack = []\n",
        "\n",
        "  c\n",
        "\n",
        "#contoh penggunaan\n",
        "s = Stack()\n",
        "s.push(5)\n",
        "print(s.stack)  #output: [5]\n"
      ]
    },
    {
      "cell_type": "code",
      "source": [
        "#pop\n",
        "class Stack:\n",
        "  def __init__(self):\n",
        "    self.stack = []\n",
        "\n",
        "  def push(self, item):\n",
        "    self.stack.append(item)\n",
        "\n",
        "  def pop(self):\n",
        "    if len(self.stack) == 0:\n",
        "      return \"Stack Kosong\"\n",
        "    return self.stack.pop()\n",
        "\n",
        "#contoh penggunaan\n",
        "s = Stack()\n",
        "s.push(5)\n",
        "s.push(10)\n",
        "print(s.pop())  #output: 10\n",
        "print(s.stack)  #output: [5]"
      ],
      "metadata": {
        "colab": {
          "base_uri": "https://localhost:8080/"
        },
        "id": "15mF1OdzIKnw",
        "outputId": "9ed018a5-39f0-4295-cc08-6258c3ee613d"
      },
      "execution_count": null,
      "outputs": [
        {
          "output_type": "stream",
          "name": "stdout",
          "text": [
            "10\n",
            "[5]\n"
          ]
        }
      ]
    },
    {
      "cell_type": "code",
      "source": [
        "#peek\n",
        "class Stack:\n",
        "  def __init__(self):\n",
        "    self.stack = []\n",
        "\n",
        "  def push(self, item):\n",
        "    self.stack.append(item)\n",
        "\n",
        "  def peek(self):\n",
        "    if len(self.stack) == 0:\n",
        "      return \"Stack Kosong\"\n",
        "    return self.stack[-1]\n",
        "\n",
        "#contoh\n",
        "s = Stack()\n",
        "s.push(5)\n",
        "s.push(10)\n",
        "print(s.peek())  #output: 10\n",
        "print(s.stack)  #output: [5, 10]"
      ],
      "metadata": {
        "colab": {
          "base_uri": "https://localhost:8080/"
        },
        "id": "CTvWCL4DYycU",
        "outputId": "a4f6a819-a5e5-4a7a-a948-5b88fc76a70f"
      },
      "execution_count": null,
      "outputs": [
        {
          "output_type": "stream",
          "name": "stdout",
          "text": [
            "10\n",
            "[5, 10]\n"
          ]
        }
      ]
    },
    {
      "cell_type": "code",
      "source": [
        "#isempty\n",
        "class Stack:\n",
        "  def __init__(self):\n",
        "    self.stack = []\n",
        "  def is_empty(self):\n",
        "    return len(self.stack) == 0\n",
        "\n",
        "#contoh\n",
        "s = Stack()\n",
        "print(s.isempty())  #output: True\n",
        "s.push(5)\n",
        "print(s.isempty())  #output: False"
      ],
      "metadata": {
        "colab": {
          "base_uri": "https://localhost:8080/",
          "height": 211
        },
        "id": "jTzOhW4JK_wX",
        "outputId": "de8ceb67-4770-4fe4-a731-576d6599994d"
      },
      "execution_count": null,
      "outputs": [
        {
          "output_type": "error",
          "ename": "AttributeError",
          "evalue": "'Stack' object has no attribute 'isempty'",
          "traceback": [
            "\u001b[0;31m---------------------------------------------------------------------------\u001b[0m",
            "\u001b[0;31mAttributeError\u001b[0m                            Traceback (most recent call last)",
            "\u001b[0;32m<ipython-input-26-1160ee94b86b>\u001b[0m in \u001b[0;36m<cell line: 0>\u001b[0;34m()\u001b[0m\n\u001b[1;32m     12\u001b[0m \u001b[0;31m#contoh\u001b[0m\u001b[0;34m\u001b[0m\u001b[0;34m\u001b[0m\u001b[0m\n\u001b[1;32m     13\u001b[0m \u001b[0ms\u001b[0m \u001b[0;34m=\u001b[0m \u001b[0mStack\u001b[0m\u001b[0;34m(\u001b[0m\u001b[0;34m)\u001b[0m\u001b[0;34m\u001b[0m\u001b[0;34m\u001b[0m\u001b[0m\n\u001b[0;32m---> 14\u001b[0;31m \u001b[0mprint\u001b[0m\u001b[0;34m(\u001b[0m\u001b[0ms\u001b[0m\u001b[0;34m.\u001b[0m\u001b[0misempty\u001b[0m\u001b[0;34m(\u001b[0m\u001b[0;34m)\u001b[0m\u001b[0;34m)\u001b[0m  \u001b[0;31m#output: True\u001b[0m\u001b[0;34m\u001b[0m\u001b[0;34m\u001b[0m\u001b[0m\n\u001b[0m\u001b[1;32m     15\u001b[0m \u001b[0ms\u001b[0m\u001b[0;34m.\u001b[0m\u001b[0mpush\u001b[0m\u001b[0;34m(\u001b[0m\u001b[0;36m5\u001b[0m\u001b[0;34m)\u001b[0m\u001b[0;34m\u001b[0m\u001b[0;34m\u001b[0m\u001b[0m\n\u001b[1;32m     16\u001b[0m \u001b[0mprint\u001b[0m\u001b[0;34m(\u001b[0m\u001b[0ms\u001b[0m\u001b[0;34m.\u001b[0m\u001b[0misempty\u001b[0m\u001b[0;34m(\u001b[0m\u001b[0;34m)\u001b[0m\u001b[0;34m)\u001b[0m  \u001b[0;31m#output: False\u001b[0m\u001b[0;34m\u001b[0m\u001b[0;34m\u001b[0m\u001b[0m\n",
            "\u001b[0;31mAttributeError\u001b[0m: 'Stack' object has no attribute 'isempty'"
          ]
        }
      ]
    },
    {
      "cell_type": "code",
      "source": [
        "#contoh1\n",
        "class TextEditor:\n",
        "  def __init__(self):\n",
        "    self.history = []\n",
        "\n",
        "  def write(self, text):\n",
        "    self.history.append(text)\n",
        "\n",
        "  def undo(self):\n",
        "    if self.history:\n",
        "      return f\"Undo: Menghapus '{self.history.pop()}'\"\n",
        "    return \"Tidak ada yang bisa diundo\"\n",
        "\n",
        "#contoh\n",
        "editor = TextEditor()\n",
        "editor.write(\"Halo, ini teks pertama.\")\n",
        "editor.write(\"Ini teks kedua.\")\n",
        "editor.write(\"Ini teks ketiga.\")\n",
        "\n",
        "print(editor.undo())\n",
        "print(editor.undo())"
      ],
      "metadata": {
        "colab": {
          "base_uri": "https://localhost:8080/"
        },
        "id": "G1bjlkXvLxfw",
        "outputId": "8cb03ee5-cd37-4e19-c173-3566e9922dc8"
      },
      "execution_count": null,
      "outputs": [
        {
          "output_type": "stream",
          "name": "stdout",
          "text": [
            "Undo: Menghapus 'Ini teks ketiga.'\n",
            "Undo: Menghapus 'Ini teks kedua.'\n"
          ]
        }
      ]
    },
    {
      "cell_type": "code",
      "source": [
        "#contoh2\n",
        "from collections import deque\n",
        "\n",
        "class BrowserHistory:\n",
        "  def __init__(self):\n",
        "    self.history = deque()\n",
        "\n",
        "  def visit(self, url):\n",
        "    self.history.append(url)\n",
        "    print(f\"mengunjungi: {url}\")\n",
        "\n",
        "  def back(self):\n",
        "    if self.history:\n",
        "      print(f\"kembali ke: {self.history.pop()}\")\n",
        "    else:\n",
        "      print(\"Tidak ada riwayat\")\n",
        "\n",
        "#contoh\n",
        "browser = BrowserHistory()\n",
        "browser.visit(\"google.com\")\n",
        "browser.visit(\"youtube.com\")\n",
        "browser.visit(\"github.com\")\n",
        "\n",
        "browser.back()\n",
        "browser.back()"
      ],
      "metadata": {
        "colab": {
          "base_uri": "https://localhost:8080/"
        },
        "id": "btJr3fBkM_Lx",
        "outputId": "1c994e06-e49b-4308-d344-097015693084"
      },
      "execution_count": null,
      "outputs": [
        {
          "output_type": "stream",
          "name": "stdout",
          "text": [
            "mengunjungi: google.com\n",
            "mengunjungi: youtube.com\n",
            "mengunjungi: github.com\n",
            "kembali ke: github.com\n",
            "kembali ke: youtube.com\n"
          ]
        }
      ]
    },
    {
      "cell_type": "code",
      "source": [
        "#contoh3\n",
        "from queue import LifoQueue\n",
        "\n",
        "class BackupSystem:\n",
        "  def __init__(self):\n",
        "    self.backups = LifoQueue()\n",
        "\n",
        "  def backup(self, version):\n",
        "    self.backups.put(version)\n",
        "\n",
        "  def latest_backup(self):\n",
        "    if not self.backups.empty():\n",
        "      return f\"Versi terbaru: {self.backups.queue[-1]}\"\n",
        "    return \"Tidak ada cadangan!\"\n",
        "\n",
        "#contoh\n",
        "backup_system = BackupSystem()\n",
        "backup_system.backup(\"Versi_1\")\n",
        "backup_system.backup(\"Versi_2\")\n",
        "backup_system.backup(\"Versi_3\")\n",
        "\n",
        "print(backup_system.latest_backup())"
      ],
      "metadata": {
        "colab": {
          "base_uri": "https://localhost:8080/"
        },
        "id": "uZeikS2_Q97R",
        "outputId": "0b89c82b-f018-4f00-8904-0196e6a806ac"
      },
      "execution_count": null,
      "outputs": [
        {
          "output_type": "stream",
          "name": "stdout",
          "text": [
            "Versi terbaru: Versi_3\n"
          ]
        }
      ]
    },
    {
      "cell_type": "code",
      "source": [
        "#contoh 4\n",
        "class CustomerService:\n",
        "  def __init__(self):\n",
        "    self.tickets = []\n",
        "\n",
        "  def add_ticket(self, ticket):\n",
        "    self.tickets.append(ticket)\n",
        "\n",
        "  def process_ticket(self):\n",
        "    if not self.is_empty():\n",
        "      return f\"memproses tiket: {self.tickets.pop()}\"\n",
        "    return \"tidak ada tiket yang bisa diproses\"\n",
        "\n",
        "  def is_empty(self):\n",
        "    return len(self.tickets) == 0\n",
        "\n",
        "#contoh\n",
        "service = CustomerService()\n",
        "service.add_ticket(\"Ticket 001\")\n",
        "service.add_ticket(\"Ticket 002\")\n",
        "\n",
        "print(service.process_ticket())\n",
        "print(service.is_empty())"
      ],
      "metadata": {
        "colab": {
          "base_uri": "https://localhost:8080/"
        },
        "id": "8Xi9nV9CR8a6",
        "outputId": "1073dd4c-cdf1-42e0-9c45-ab820c993743"
      },
      "execution_count": null,
      "outputs": [
        {
          "output_type": "stream",
          "name": "stdout",
          "text": [
            "memproses tiket: Ticket 002\n",
            "False\n"
          ]
        }
      ]
    },
    {
      "cell_type": "code",
      "source": [
        "#lat1\n",
        "class Calculator:\n",
        "    def __init__(self):\n",
        "        self.history = []\n",
        "\n",
        "    def add(self, a, b):\n",
        "        result = a + b\n",
        "        self.history.append(result)\n",
        "        return result\n",
        "\n",
        "    def subtract(self, a, b):\n",
        "        result = a - b\n",
        "        self.history.append(result)\n",
        "        return result\n",
        "\n",
        "    def multiply(self, a, b):\n",
        "        result = a * b\n",
        "        self.history.append(result)\n",
        "        return result\n",
        "\n",
        "    def divide(self, a, b):\n",
        "        if b == 0:\n",
        "            return \"error: pembagian dengan nol\"\n",
        "        result = a / b\n",
        "        self.history.append(result)\n",
        "        return result\n",
        "\n",
        "    def undo(self):\n",
        "        if self.history:\n",
        "            return f\"Undo: menghapus hasil '{self.history.pop()}'\"\n",
        "        return \"tidak ada yang bisa di-undo\"\n",
        "\n",
        "#contoh penggunaan\n",
        "calc = Calculator()\n",
        "\n",
        "a = 4\n",
        "b = 6\n",
        "\n",
        "print(\"Operasi Matematika:\")\n",
        "print(f\"{a} + {b} = {calc.add(a, b)}\")\n",
        "print(f\"{a} - {b} = {calc.subtract(a, b)}\")\n",
        "print(f\"{a} * {b} = {calc.multiply(a, b)}\")\n",
        "print(f\"{a} / {b} = {calc.divide(a, b)}\")\n",
        "\n",
        "#uji\n",
        "print(\"\\nmenguji undo:\")\n",
        "print(calc.undo())\n",
        "print(calc.undo())\n",
        "print(calc.undo())\n"
      ],
      "metadata": {
        "id": "G4sW1A4xTvDC",
        "colab": {
          "base_uri": "https://localhost:8080/"
        },
        "outputId": "f3920023-b9c5-46dd-cd4d-14d15f9b8889"
      },
      "execution_count": null,
      "outputs": [
        {
          "output_type": "stream",
          "name": "stdout",
          "text": [
            "Operasi Matematika:\n",
            "4 + 6 = 10\n",
            "4 - 6 = -2\n",
            "4 * 6 = 24\n",
            "4 / 6 = 0.6666666666666666\n",
            "\n",
            "menguji undo:\n",
            "Undo: menghapus hasil '0.6666666666666666'\n",
            "Undo: menghapus hasil '24'\n",
            "Undo: menghapus hasil '-2'\n"
          ]
        }
      ]
    },
    {
      "cell_type": "code",
      "source": [
        "#lat2\n",
        "from collections import deque\n",
        "\n",
        "class MobileAppHistory:\n",
        "    def __init__(self, feature_name):\n",
        "        self.history = deque()\n",
        "        self.feature_name = feature_name\n",
        "\n",
        "    def open_feature(self, feature):\n",
        "        self.history.append(feature)\n",
        "        print(f\"membuka fitur: {feature}\")\n",
        "\n",
        "    def back(self):\n",
        "        if self.history:\n",
        "            print(f\"kembali ke fitur: {self.history.pop()}\")\n",
        "        else:\n",
        "            print(\"tidak ada riwayat fitur!\")\n",
        "\n",
        "feature_name = \"M04\"\n",
        "\n",
        "#contoh penggunaan\n",
        "mobile_history = MobileAppHistory(feature_name)\n",
        "mobile_history.open_feature(\"wa\")\n",
        "mobile_history.open_feature(\"ig\")\n",
        "mobile_history.open_feature(\"yt\")\n",
        "\n",
        "#uji fitur back\n",
        "mobile_history.back()\n",
        "mobile_history.back()\n"
      ],
      "metadata": {
        "colab": {
          "base_uri": "https://localhost:8080/"
        },
        "id": "wy2YxBD5viRj",
        "outputId": "528392ef-6b91-486a-bde0-4d83d17d21d5"
      },
      "execution_count": null,
      "outputs": [
        {
          "output_type": "stream",
          "name": "stdout",
          "text": [
            "membuka fitur: wa\n",
            "membuka fitur: ig\n",
            "membuka fitur: yt\n",
            "kembali ke fitur: yt\n",
            "kembali ke fitur: ig\n"
          ]
        }
      ]
    },
    {
      "cell_type": "code",
      "source": [
        "#lat3\n",
        "from queue import LifoQueue\n",
        "\n",
        "class DraftEmailSystem:\n",
        "    def __init__(self, email_subject):\n",
        "        self.drafts = LifoQueue()\n",
        "        self.email_subject = email_subject\n",
        "\n",
        "    def save_draft(self, content):\n",
        "        self.drafts.put(content)\n",
        "        print(f\"draft disimpan: {content}\")\n",
        "\n",
        "    def latest_draft(self):\n",
        "        if not self.drafts.empty():\n",
        "            return f\"draft terakhir: {self.drafts.queue[-1]}\"\n",
        "        return \"tidak ada draft tersimpan!\"\n",
        "\n",
        "email_subject = \"AP04\"\n",
        "\n",
        "#contoh penggunaan\n",
        "draft_system = DraftEmailSystem(email_subject)\n",
        "draft_system.save_draft(\"draft email 1: rencana proyek\")\n",
        "draft_system.save_draft(\"draft email 2: undangan Rapat\")\n",
        "draft_system.save_draft(\"draft email 3: laporan akhir\")\n",
        "\n",
        "#uji\n",
        "print(draft_system.latest_draft())\n"
      ],
      "metadata": {
        "colab": {
          "base_uri": "https://localhost:8080/"
        },
        "id": "VOoZT38uvzZs",
        "outputId": "22318c84-0ee8-4334-9c4b-99269803631c"
      },
      "execution_count": null,
      "outputs": [
        {
          "output_type": "stream",
          "name": "stdout",
          "text": [
            "Draft disimpan: Draft Email 1: Rencana Proyek\n",
            "Draft disimpan: Draft Email 2: Undangan Rapat\n",
            "Draft disimpan: Draft Email 3: Laporan Akhir\n",
            "Draft terakhir: Draft Email 3: Laporan Akhir\n"
          ]
        }
      ]
    },
    {
      "cell_type": "code",
      "source": [
        "#lat4\n",
        "class MovieTicketQueue:\n",
        "    def __init__(self, movie_name):\n",
        "        self.tickets = []\n",
        "        self.movie_name = movie_name\n",
        "\n",
        "    def buy_ticket(self, ticket):\n",
        "        self.tickets.append(ticket)\n",
        "        print(f\"Tiket dibeli: {ticket}\")\n",
        "\n",
        "    def process_ticket(self):\n",
        "        if not self.is_empty():\n",
        "            return f\"Memproses tiket: {self.tickets.pop()}\"\n",
        "        return \"tidak ada tiket yang harus diproses.\"\n",
        "\n",
        "    def is_empty(self):\n",
        "        return len(self.tickets) == 0\n",
        "\n",
        "movie_name = \"M05\"\n",
        "\n",
        "#contoh penggunaan\n",
        "ticket_system = MovieTicketQueue(movie_name)\n",
        "ticket_system.buy_ticket(\"Tiket Bioskop 001\")\n",
        "ticket_system.buy_ticket(\"Tiket Bioskop 002\")\n",
        "ticket_system.buy_ticket(\"Tiket Bioskop 003\")\n",
        "\n",
        "#proses tiket\n",
        "print(ticket_system.process_ticket())\n",
        "print(ticket_system.process_ticket())\n",
        "\n",
        "#mengecek apakah masih ada tiket\n",
        "print(ticket_system.is_empty())\n"
      ],
      "metadata": {
        "colab": {
          "base_uri": "https://localhost:8080/"
        },
        "id": "4wgPkamBv8PI",
        "outputId": "f39dfc18-bd6d-4169-ac72-bf348d22a01d"
      },
      "execution_count": null,
      "outputs": [
        {
          "output_type": "stream",
          "name": "stdout",
          "text": [
            "Tiket dibeli: Tiket Bioskop 001\n",
            "Tiket dibeli: Tiket Bioskop 002\n",
            "Tiket dibeli: Tiket Bioskop 003\n",
            "Memproses tiket: Tiket Bioskop 003\n",
            "Memproses tiket: Tiket Bioskop 002\n",
            "False\n"
          ]
        }
      ]
    },
    {
      "cell_type": "code",
      "source": [],
      "metadata": {
        "id": "_uPK-EciwCCz"
      },
      "execution_count": null,
      "outputs": []
    }
  ]
}