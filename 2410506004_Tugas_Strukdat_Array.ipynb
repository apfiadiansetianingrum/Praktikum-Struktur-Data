{
  "nbformat": 4,
  "nbformat_minor": 0,
  "metadata": {
    "colab": {
      "provenance": [],
      "authorship_tag": "ABX9TyNyvFaJa5pdQR0U2HaHgxss",
      "include_colab_link": true
    },
    "kernelspec": {
      "name": "python3",
      "display_name": "Python 3"
    },
    "language_info": {
      "name": "python"
    }
  },
  "cells": [
    {
      "cell_type": "markdown",
      "metadata": {
        "id": "view-in-github",
        "colab_type": "text"
      },
      "source": [
        "<a href=\"https://colab.research.google.com/github/apfiadiansetianingrum/Praktikum-Struktur-Data/blob/main/2410506004_Tugas_Strukdat_Array.ipynb\" target=\"_parent\"><img src=\"https://colab.research.google.com/assets/colab-badge.svg\" alt=\"Open In Colab\"/></a>"
      ]
    },
    {
      "cell_type": "code",
      "execution_count": 1,
      "metadata": {
        "colab": {
          "base_uri": "https://localhost:8080/"
        },
        "id": "9ihuK7DCRgz-",
        "outputId": "bbbcba2b-765f-4189-a7d4-ec0725a7a6c6"
      },
      "outputs": [
        {
          "output_type": "stream",
          "name": "stdout",
          "text": [
            "selamat datang di treasure hunt! peta mmeiliki 10 lokasi 0 hingga 9.\n",
            "masukkan lokasi harta karun (0-(size-1)): 5\n",
            "\n",
            "harta karun telah disembunyikan! sekarang giliran pemain menebak.\n",
            "cobalah untuk menemukan harta karun dengan indeks yang benar.\n",
            "\n",
            "peta saat ini:  ['_', '_', '_', '_', '_', '_', '_', '_', '_', '_']\n",
            "masukkan indeks tebakanmu (0-9): 6\n",
            "tidak ada harta di lokasi ini. coba lagi!\n",
            "\n",
            "peta saat ini:  ['_', '_', '_', '_', '_', '_', '_', '_', '_', '_']\n",
            "masukkan indeks tebakanmu (0-9): 5\n",
            "selamat! kamu menemukan harta karus di lokasi: 5\n"
          ]
        }
      ],
      "source": [
        "#ukuran peta\n",
        "size = 10\n",
        "\n",
        "#membuat peta dengan harta karun tersembunyi\n",
        "treasure_map = [\"_\" for _ in range(size)]\n",
        "\n",
        "#tentukan lokasi harta karun secara manual\n",
        "print(f\"selamat datang di treasure hunt! peta mmeiliki {size} lokasi {0} hingga {size-1}.\")\n",
        "treasure_index = int(input(f\"masukkan lokasi harta karun (0-(size-1)): \"))\n",
        "while treasure_index < 0 or treasure_index >= size:\n",
        "  print(\"lokasi tidak valid, masukkan angka dalam rentan yang benar.\")\n",
        "  treasure_index = int(input(f\"masukkan lokasi harta karun (0-(size-1)): \"))\n",
        "\n",
        "treasure_map[treasure_index] = \"X\" #menyembunyikan harta karun di lokasi yang dipilih\n",
        "\n",
        "#fungsi untuk memulai permainan\n",
        "def play_treasure_hunt():\n",
        "  print(\"\\nharta karun telah disembunyikan! sekarang giliran pemain menebak.\")\n",
        "  print(\"cobalah untuk menemukan harta karun dengan indeks yang benar.\")\n",
        "\n",
        "  #loop permainan\n",
        "  while True:\n",
        "    #menampilkan peta tersembunyi kepada pemain\n",
        "    print(\"\\npeta saat ini: \", [\"_\" for _ in range(size)]) #peta tersembunyi\n",
        "    #input pemain\n",
        "    try:\n",
        "      guess = int(input(f'masukkan indeks tebakanmu (0-{size-1}): '))\n",
        "    except ValueError:\n",
        "      print(\"masukkan angka yang valid!\")\n",
        "      continue\n",
        "    #validasi input\n",
        "    if guess < 0 or guess >+ size:\n",
        "      print(\"indeks tidak valid, pilih antara 0 hingga\", size-1)\n",
        "      continue\n",
        "\n",
        "    #mengecek apakah tebakan benar\n",
        "    if treasure_map[guess] == \"X\":\n",
        "      print(\"selamat! kamu menemukan harta karus di lokasi:\", guess)\n",
        "      break\n",
        "    else:\n",
        "      print(\"tidak ada harta di lokasi ini. coba lagi!\")\n",
        "\n",
        "#jalankan permainan\n",
        "play_treasure_hunt()"
      ]
    },
    {
      "cell_type": "code",
      "source": [
        "import random\n",
        "\n",
        "#input ukuran peta\n",
        "size = int(input(\"Masukkan ukuran peta: \"))\n",
        "\n",
        "#membuat peta\n",
        "treasure_map = [\"_\" for _ in range(size)]\n",
        "\n",
        "#menentukan lokasi harta acak\n",
        "treasure_index = random.randint(0, size - 1)\n",
        "treasure_map[treasure_index] = \"X\"  #menyembunyikan harta karun\n",
        "\n",
        "#memulai permainan\n",
        "def play_treasure_hunt():\n",
        "    print(\"\\nHarta karun telah disembunyikan! Sekarang giliran pemain menebak.\")\n",
        "    print(\"Cobalah untuk menemukan harta karun dengan indeks yang benar.\")\n",
        "\n",
        "    # Loop permainan\n",
        "    while True:\n",
        "        #menampilkan peta\n",
        "        print(\"\\nPeta saat ini: \", [\"_\" for _ in range(size)])  #peta tersembunyi\n",
        "\n",
        "        #input pemain\n",
        "        try:\n",
        "            guess = int(input(f'Masukkan indeks tebakanmu (0-{size - 1}): '))\n",
        "        except ValueError:\n",
        "            print(\"Masukkan angka yang valid!\")\n",
        "            continue\n",
        "\n",
        "        #validasi input\n",
        "        if guess < 0 or guess >= size:\n",
        "            print(\"Indeks tidak valid, pilih antara 0 hingga\", size - 1)\n",
        "            continue\n",
        "\n",
        "        #mengecek apakah tebakan benar\n",
        "        if treasure_map[guess] == \"X\":\n",
        "            print(\"Selamat! Kamu menemukan harta karus di lokasi:\", guess)\n",
        "            break\n",
        "        else:\n",
        "            print(\"Tidak ada harta di lokasi ini. Coba lagi!\")\n",
        "\n",
        "#jalankan permainan\n",
        "play_treasure_hunt()"
      ],
      "metadata": {
        "colab": {
          "base_uri": "https://localhost:8080/"
        },
        "id": "lqPDg990R1tE",
        "outputId": "790abd95-0642-4c69-8458-e832ef1a401d"
      },
      "execution_count": 2,
      "outputs": [
        {
          "output_type": "stream",
          "name": "stdout",
          "text": [
            "Masukkan ukuran peta: 5\n",
            "\n",
            "Harta karun telah disembunyikan! Sekarang giliran pemain menebak.\n",
            "Cobalah untuk menemukan harta karun dengan indeks yang benar.\n",
            "\n",
            "Peta saat ini:  ['_', '_', '_', '_', '_']\n",
            "Masukkan indeks tebakanmu (0-4): 4\n",
            "Tidak ada harta di lokasi ini. Coba lagi!\n",
            "\n",
            "Peta saat ini:  ['_', '_', '_', '_', '_']\n",
            "Masukkan indeks tebakanmu (0-4): 2\n",
            "Tidak ada harta di lokasi ini. Coba lagi!\n",
            "\n",
            "Peta saat ini:  ['_', '_', '_', '_', '_']\n",
            "Masukkan indeks tebakanmu (0-4): 3\n",
            "Tidak ada harta di lokasi ini. Coba lagi!\n",
            "\n",
            "Peta saat ini:  ['_', '_', '_', '_', '_']\n",
            "Masukkan indeks tebakanmu (0-4): 1\n",
            "Tidak ada harta di lokasi ini. Coba lagi!\n",
            "\n",
            "Peta saat ini:  ['_', '_', '_', '_', '_']\n",
            "Masukkan indeks tebakanmu (0-4): 0\n",
            "Selamat! Kamu menemukan harta karus di lokasi: 0\n"
          ]
        }
      ]
    },
    {
      "cell_type": "code",
      "source": [],
      "metadata": {
        "id": "NYXcyWhfh1Du"
      },
      "execution_count": null,
      "outputs": []
    }
  ]
}