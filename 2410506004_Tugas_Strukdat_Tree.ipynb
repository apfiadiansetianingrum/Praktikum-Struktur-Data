{
  "nbformat": 4,
  "nbformat_minor": 0,
  "metadata": {
    "colab": {
      "provenance": [],
      "authorship_tag": "ABX9TyMBQTWmC0RwO+gO/xt9jf7y",
      "include_colab_link": true
    },
    "kernelspec": {
      "name": "python3",
      "display_name": "Python 3"
    },
    "language_info": {
      "name": "python"
    }
  },
  "cells": [
    {
      "cell_type": "markdown",
      "metadata": {
        "id": "view-in-github",
        "colab_type": "text"
      },
      "source": [
        "<a href=\"https://colab.research.google.com/github/apfiadiansetianingrum/Praktikum-Struktur-Data/blob/main/2410506004_Tugas_Strukdat_Tree.ipynb\" target=\"_parent\"><img src=\"https://colab.research.google.com/assets/colab-badge.svg\" alt=\"Open In Colab\"/></a>"
      ]
    },
    {
      "cell_type": "code",
      "execution_count": null,
      "metadata": {
        "colab": {
          "base_uri": "https://localhost:8080/"
        },
        "id": "tHX2zJSVyqXZ",
        "outputId": "f434c9d2-537f-48d1-de69-83b20c862766"
      },
      "outputs": [
        {
          "output_type": "stream",
          "name": "stdout",
          "text": [
            "Inorder Traversal:\n",
            "22 10 21 4 5 "
          ]
        }
      ],
      "source": [
        "#tugas 1\n",
        "\n",
        "#struktur Tree berdasarkan identitas saya\n",
        "class Node:\n",
        "    def __init__(self, data):\n",
        "        self.data = data\n",
        "        self.left = None\n",
        "        self.right = None\n",
        "\n",
        "#membuat node\n",
        "root = Node(21) #jumlah huruf dinama lengkap\n",
        "root.left = Node(10) #jumlah huruf vokal pada nama\n",
        "root.right = Node(4) #dua digit terakhir npm 04-> 4\n",
        "\n",
        "#tambahan dari tanggal lahir\n",
        "root.left.left = Node(22) #tanggal lahir\n",
        "root.right.right = Node(5) #bulan lahir\n",
        "\n",
        "#fungsi inorder traversal\n",
        "def inorder(node):\n",
        "    if node:\n",
        "        inorder(node.left)\n",
        "        print(node.data, end=' ')\n",
        "        inorder(node.right)\n",
        "\n",
        "#menampilkan hasil inorder traversal\n",
        "print(\"Inorder Traversal:\")\n",
        "inorder(root)\n"
      ]
    },
    {
      "cell_type": "code",
      "source": [
        "#tugas 2\n",
        "#kelas Node untuk setiap elemen dalam BST\n",
        "class Node:\n",
        "    def __init__(self, data):\n",
        "        self.data = data\n",
        "        self.left = None\n",
        "        self.right = None\n",
        "\n",
        "#kelas BinarySearchTree untuk operasi BST\n",
        "class BinarySearchTree:\n",
        "    def __init__(self):\n",
        "        self.root = None\n",
        "\n",
        "    #menyisipkan data ke dalam BST\n",
        "    def insert(self, root, data):\n",
        "        if root is None:\n",
        "            return Node(data)\n",
        "        if data < root.data:\n",
        "            root.left = self.insert(root.left, data)\n",
        "        else:\n",
        "            root.right = self.insert(root.right, data)\n",
        "        return root\n",
        "\n",
        "    #fungsi inorder traversal\n",
        "    def inorder(self, node):\n",
        "        if node:\n",
        "            self.inorder(node.left)\n",
        "            print(node.data, end=' ')\n",
        "            self.inorder(node.right)\n",
        "\n",
        "    #fungsi preorder traversal\n",
        "    def preorder(self, node):\n",
        "        if node:\n",
        "            print(node.data, end=' ')\n",
        "            self.preorder(node.left)\n",
        "            self.preorder(node.right)\n",
        "\n",
        "    #fungsi postorder traversal\n",
        "    def postorder(self, node):\n",
        "        if node:\n",
        "            self.postorder(node.left)\n",
        "            self.postorder(node.right)\n",
        "            print(node.data, end=' ')\n",
        "\n",
        "    #fungsi pencarian data di BST\n",
        "    def search(self, node, key):\n",
        "        if node is None:\n",
        "            return False\n",
        "        if node.data == key:\n",
        "            return True\n",
        "        elif key < node.data:\n",
        "            return self.search(node.left, key)\n",
        "        else:\n",
        "            return self.search(node.right, key)\n",
        "\n",
        "# Data berdasarkan ketentuan\n",
        "# 1.tiga digit terakhir NPM: 004 -> gunakan 4\n",
        "# 2.tanggal lahir: 22 dan 5\n",
        "# 3.ASCII dari 'A' dan 'P': 65 dan 80\n",
        "# 4.dua angka bebas: 17 dan 45\n",
        "data_list = [4, 22, 5, 65, 80, 17, 45]\n",
        "\n",
        "#membuat dan mengisi BST\n",
        "bst = BinarySearchTree()\n",
        "root = None\n",
        "for value in data_list:\n",
        "    root = bst.insert(root, value)\n",
        "\n",
        "#menampilkan traversal\n",
        "print(\"Inorder Traversal:\")\n",
        "bst.inorder(root)\n",
        "\n",
        "print(\"\\nPreorder Traversal:\")\n",
        "bst.preorder(root)\n",
        "\n",
        "print(\"\\nPostorder Traversal:\")\n",
        "bst.postorder(root)\n",
        "\n",
        "#fitur pencarian\n",
        "print(\"\\n\\nPencarian nilai 4 (dua digit terakhir NPM):\")\n",
        "if bst.search(root, 4):\n",
        "    print(\"Data 4 ditemukan dalam BST.\")\n",
        "else:\n",
        "    print(\"Data 4 tidak ditemukan dalam BST.\")\n",
        "\n",
        "print(\"\\nPencarian nilai 99 (tidak termasuk dalam list):\")\n",
        "if bst.search(root, 99):\n",
        "    print(\"Data 99 ditemukan dalam BST.\")\n",
        "else:\n",
        "    print(\"Data 99 tidak ditemukan dalam BST.\")"
      ],
      "metadata": {
        "colab": {
          "base_uri": "https://localhost:8080/"
        },
        "id": "_CypwsLvyvi0",
        "outputId": "dca637ac-2cd5-47a0-83db-b58ed2eb361c"
      },
      "execution_count": null,
      "outputs": [
        {
          "output_type": "stream",
          "name": "stdout",
          "text": [
            "Inorder Traversal:\n",
            "4 5 17 22 45 65 80 \n",
            "Preorder Traversal:\n",
            "4 22 5 17 65 45 80 \n",
            "Postorder Traversal:\n",
            "17 5 45 80 65 22 4 \n",
            "\n",
            "Pencarian nilai 4 (dua digit terakhir NPM):\n",
            "Data 4 ditemukan dalam BST.\n",
            "\n",
            "Pencarian nilai 99 (tidak termasuk dalam list):\n",
            "Data 99 tidak ditemukan dalam BST.\n"
          ]
        }
      ]
    },
    {
      "cell_type": "code",
      "source": [],
      "metadata": {
        "id": "zUJXAbZTyzHi"
      },
      "execution_count": null,
      "outputs": []
    }
  ]
}