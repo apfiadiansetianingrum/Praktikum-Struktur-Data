{
  "nbformat": 4,
  "nbformat_minor": 0,
  "metadata": {
    "colab": {
      "provenance": [],
      "authorship_tag": "ABX9TyOrC9wcLIJAZQUiVmq950rE",
      "include_colab_link": true
    },
    "kernelspec": {
      "name": "python3",
      "display_name": "Python 3"
    },
    "language_info": {
      "name": "python"
    }
  },
  "cells": [
    {
      "cell_type": "markdown",
      "metadata": {
        "id": "view-in-github",
        "colab_type": "text"
      },
      "source": [
        "<a href=\"https://colab.research.google.com/github/apfiadiansetianingrum/Praktikum-Struktur-Data/blob/main/2410506004_Tugas_Strukdat_Graph.ipynb\" target=\"_parent\"><img src=\"https://colab.research.google.com/assets/colab-badge.svg\" alt=\"Open In Colab\"/></a>"
      ]
    },
    {
      "cell_type": "code",
      "execution_count": 4,
      "metadata": {
        "colab": {
          "base_uri": "https://localhost:8080/"
        },
        "id": "ibahHfD6lFPR",
        "outputId": "42730ec6-1af0-441c-b0e6-5da26f4dcb78"
      },
      "outputs": [
        {
          "output_type": "stream",
          "name": "stdout",
          "text": [
            "1. Tampilkan Graf:\n",
            "A -> ['B', 'C', 'D']\n",
            "B -> ['A', 'C', 'E']\n",
            "C -> ['A', 'B', 'E']\n",
            "D -> ['B', 'E']\n",
            "E -> ['A', 'C', 'D']\n",
            "\n",
            "2. BFS dari simpul A:\n",
            "A B C D E \n",
            "\n",
            "2. DFS dari simpul A:\n",
            "A B C E D \n",
            "\n",
            "3. BFS List dari simpul A: ['A', 'B', 'C', 'D', 'E']\n",
            "\n",
            "4. Path dari A ke D: ['A', 'B', 'C', 'E', 'D']\n",
            "\n",
            "5. Apakah graf terhubung?: True\n"
          ]
        }
      ],
      "source": [
        "from collections import deque\n",
        "\n",
        "#1.buat graf tak berarah\n",
        "graph = {\n",
        "    'A': ['B', 'C', 'D'],\n",
        "    'B': ['A', 'C', 'E'],\n",
        "    'C': ['A', 'B', 'E'],\n",
        "    'D': ['B', 'E'],\n",
        "    'E': ['A', 'C', 'D']\n",
        "}\n",
        "\n",
        "#fungsi print_graph\n",
        "def print_graph(graf):\n",
        "    for node in graf:\n",
        "        print(f\"{node} -> {graf[node]}\")\n",
        "\n",
        "#2.implementasi BFS\n",
        "def bfs(graph, start):\n",
        "    visited = set()\n",
        "    queue = deque([start])\n",
        "    while queue:\n",
        "        vertex = queue.popleft()\n",
        "        if vertex not in visited:\n",
        "            print(vertex, end=\" \")\n",
        "            visited.add(vertex)\n",
        "            queue.extend([n for n in graph[vertex] if n not in visited])\n",
        "\n",
        "#2.DFS\n",
        "def dfs(graph, start, visited=None):\n",
        "    if visited is None:\n",
        "        visited = set()\n",
        "    if start not in visited:\n",
        "        print(start, end=\" \")\n",
        "        visited.add(start)\n",
        "        for neighbor in graph[start]:\n",
        "            dfs(graph, neighbor, visited)\n",
        "\n",
        "#3.BFS modifikasi: mengembalikan list urutan kunjungan\n",
        "def bfs_list(graph, start):\n",
        "    visited = set()\n",
        "    queue = deque([start])\n",
        "    result = []\n",
        "    while queue:\n",
        "        vertex = queue.popleft()\n",
        "        if vertex not in visited:\n",
        "            result.append(vertex)\n",
        "            visited.add(vertex)\n",
        "            queue.extend([n for n in graph[vertex] if n not in visited])\n",
        "    return result\n",
        "\n",
        "#4.DFS: cari satu jalur dari start ke end\n",
        "def find_path(graph, start, end, path=None):\n",
        "    if path is None:\n",
        "        path = []\n",
        "    path = path + [start]\n",
        "    if start == end:\n",
        "        return path\n",
        "    for neighbor in graph[start]:\n",
        "        if neighbor not in path:\n",
        "            new_path = find_path(graph, neighbor, end, path)\n",
        "            if new_path:\n",
        "                return new_path\n",
        "    return None\n",
        "\n",
        "#5.cek apakah graf terhubung\n",
        "def is_connected(graph):\n",
        "    start = next(iter(graph))  # ambil simpul pertama\n",
        "    visited = set()\n",
        "\n",
        "    def dfs_visit(node):\n",
        "        if node not in visited:\n",
        "            visited.add(node)\n",
        "            for neighbor in graph[node]:\n",
        "                dfs_visit(neighbor)\n",
        "\n",
        "    dfs_visit(start)\n",
        "    return len(visited) == len(graph)\n",
        "\n",
        "#pemanggilan fungsi\n",
        "print(\"1. Tampilkan Graf:\")\n",
        "print_graph(graph)\n",
        "\n",
        "print(\"\\n2. BFS dari simpul A:\")\n",
        "bfs(graph, 'A')\n",
        "\n",
        "print(\"\\n\\n2. DFS dari simpul A:\")\n",
        "dfs(graph, 'A')\n",
        "\n",
        "print(\"\\n\\n3. BFS List dari simpul A:\", bfs_list(graph, 'A'))\n",
        "\n",
        "print(\"\\n4. Path dari A ke D:\", find_path(graph, 'A', 'D'))\n",
        "\n",
        "print(\"\\n5. Apakah graf terhubung?:\", is_connected(graph))\n"
      ]
    },
    {
      "cell_type": "code",
      "source": [],
      "metadata": {
        "id": "EPeNEQH4lKqZ"
      },
      "execution_count": null,
      "outputs": []
    }
  ]
}