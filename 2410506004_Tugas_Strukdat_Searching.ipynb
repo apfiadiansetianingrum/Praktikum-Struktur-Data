{
  "nbformat": 4,
  "nbformat_minor": 0,
  "metadata": {
    "colab": {
      "provenance": [],
      "authorship_tag": "ABX9TyPOXQqrhHJOfYOl6eTNy2cd",
      "include_colab_link": true
    },
    "kernelspec": {
      "name": "python3",
      "display_name": "Python 3"
    },
    "language_info": {
      "name": "python"
    }
  },
  "cells": [
    {
      "cell_type": "markdown",
      "metadata": {
        "id": "view-in-github",
        "colab_type": "text"
      },
      "source": [
        "<a href=\"https://colab.research.google.com/github/apfiadiansetianingrum/Praktikum-Struktur-Data/blob/main/2410506004_Tugas_Strukdat_Searching.ipynb\" target=\"_parent\"><img src=\"https://colab.research.google.com/assets/colab-badge.svg\" alt=\"Open In Colab\"/></a>"
      ]
    },
    {
      "cell_type": "code",
      "execution_count": 3,
      "metadata": {
        "colab": {
          "base_uri": "https://localhost:8080/"
        },
        "id": "OKYjqcxBgXCN",
        "outputId": "aae6e963-9e91-45de-c242-3e3a354c2491"
      },
      "outputs": [
        {
          "output_type": "stream",
          "name": "stdout",
          "text": [
            "Target: 976\n",
            "Linear Search - Ditemukan di indeks 97, Jumlah Perbandingan: 98\n",
            "Binary Search - Ditemukan di indeks 97, Jumlah Perbandingan: 7\n",
            "Jump Search - Ditemukan di indeks 97, Jumlah Perbandingan: 17\n"
          ]
        }
      ],
      "source": [
        "import random\n",
        "import math\n",
        "\n",
        "#daftar angka acak(tanpa seed agar selalu berubah)\n",
        "arr = sorted(random.sample(range(1, 1001), 100))\n",
        "\n",
        "target = random.choice(arr)\n",
        "\n",
        "#linear search\n",
        "def linear_search(arr, target):\n",
        "    comparisons = 0\n",
        "    for i in range(len(arr)):\n",
        "        comparisons += 1\n",
        "        if arr[i] == target:\n",
        "            return i, comparisons\n",
        "    return -1, comparisons\n",
        "\n",
        "#binary search\n",
        "def binary_search(arr, target):\n",
        "    low, high = 0, len(arr) - 1\n",
        "    comparisons = 0\n",
        "    while low <= high:\n",
        "        mid = (low + high) // 2\n",
        "        comparisons += 1\n",
        "        if arr[mid] == target:\n",
        "            return mid, comparisons\n",
        "        elif arr[mid] < target:\n",
        "            low = mid + 1\n",
        "        else:\n",
        "            high = mid - 1\n",
        "    return -1, comparisons\n",
        "\n",
        "#jump search\n",
        "def jump_search(arr, target):\n",
        "    n = len(arr)\n",
        "    step = int(math.sqrt(n))\n",
        "    prev, comparisons = 0, 0\n",
        "\n",
        "    while arr[min(step, n) - 1] < target:\n",
        "        comparisons += 1\n",
        "        prev = step\n",
        "        step += int(math.sqrt(n))\n",
        "        if prev >= n:\n",
        "            return -1, comparisons\n",
        "\n",
        "    for i in range(prev, min(step, n)):\n",
        "        comparisons += 1\n",
        "        if arr[i] == target:\n",
        "            return i, comparisons\n",
        "    return -1, comparisons\n",
        "\n",
        "linear_result, linear_comparisons = linear_search(arr, target)\n",
        "binary_result, binary_comparisons = binary_search(arr, target)\n",
        "jump_result, jump_comparisons = jump_search(arr, target)\n",
        "\n",
        "print(f\"Target: {target}\")\n",
        "print(f\"Linear Search - Ditemukan di indeks {linear_result}, Jumlah Perbandingan: {linear_comparisons}\")\n",
        "print(f\"Binary Search - Ditemukan di indeks {binary_result}, Jumlah Perbandingan: {binary_comparisons}\")\n",
        "print(f\"Jump Search - Ditemukan di indeks {jump_result}, Jumlah Perbandingan: {jump_comparisons}\")\n"
      ]
    },
    {
      "cell_type": "code",
      "source": [],
      "metadata": {
        "id": "vJIrBtfSgmrz"
      },
      "execution_count": null,
      "outputs": []
    }
  ]
}