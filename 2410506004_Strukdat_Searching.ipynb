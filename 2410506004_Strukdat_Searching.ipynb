{
  "nbformat": 4,
  "nbformat_minor": 0,
  "metadata": {
    "colab": {
      "provenance": [],
      "authorship_tag": "ABX9TyOLCt38Ih2YDUqrWoi737/2",
      "include_colab_link": true
    },
    "kernelspec": {
      "name": "python3",
      "display_name": "Python 3"
    },
    "language_info": {
      "name": "python"
    }
  },
  "cells": [
    {
      "cell_type": "markdown",
      "metadata": {
        "id": "view-in-github",
        "colab_type": "text"
      },
      "source": [
        "<a href=\"https://colab.research.google.com/github/apfiadiansetianingrum/Praktikum-Struktur-Data/blob/main/2410506004_Strukdat_Searching.ipynb\" target=\"_parent\"><img src=\"https://colab.research.google.com/assets/colab-badge.svg\" alt=\"Open In Colab\"/></a>"
      ]
    },
    {
      "cell_type": "code",
      "execution_count": null,
      "metadata": {
        "colab": {
          "base_uri": "https://localhost:8080/"
        },
        "id": "YZp-YDGENKo7",
        "outputId": "58f80d79-615e-4386-b65f-5214c887aabe"
      },
      "outputs": [
        {
          "output_type": "stream",
          "name": "stdout",
          "text": [
            "Masukkan digit terakhir NPM Anda: 44\n",
            "Elemen ditemukan pada indeks 10\n"
          ]
        }
      ],
      "source": [
        "#implementasi linear search\n",
        "def linear_search(arr, target):\n",
        "  for i in range(len(arr)):\n",
        "    if arr[i] == target:\n",
        "      return i\n",
        "  return -1\n",
        "\n",
        "#tambah npm (44 karena 04 gabisa)\n",
        "arr = [12, 45, 78, 23, 56, 89, 34, 67, 90, 11, 44]\n",
        "target = int(input(\"Masukkan digit terakhir NPM Anda: \"))\n",
        "\n",
        "result = linear_search(arr, target)\n",
        "\n",
        "if result != -1:\n",
        "  print (f\"Elemen ditemukan pada indeks {result}\")\n",
        "else:\n",
        "  print (\"Elemen tidak ditemukan\")\n"
      ]
    },
    {
      "cell_type": "code",
      "source": [
        "#implementasi binary search\n",
        "def binary_search(arr, target):\n",
        "  low = 0\n",
        "  high = len(arr) - 1\n",
        "\n",
        "  while low <= high:\n",
        "    mid = (low + high) // 2\n",
        "    if arr[mid] == target:\n",
        "      return mid\n",
        "    elif arr[mid] < target:\n",
        "      low = mid + 1\n",
        "    else:\n",
        "      high = mid - 1\n",
        "\n",
        "  return -1\n",
        "\n",
        "#tambah tanggal lahir(2205) dan urutkan\n",
        "arr = [1010, 1202, 1405, 1707, 2205, 2412, 2508, 3009, 3111]\n",
        "target = int (input(\"Masukkan tanggal lahir Anda: \"))\n",
        "\n",
        "result = binary_search(arr, target)\n",
        "\n",
        "if result != -1:\n",
        "  print (f\"Elemen ditemukan pada indeks {result}\")\n",
        "else:\n",
        "  print(\"Elemen tidak ditemukan\")"
      ],
      "metadata": {
        "colab": {
          "base_uri": "https://localhost:8080/"
        },
        "id": "kAUnK7FsOK9a",
        "outputId": "ceb22b67-8c8c-4909-92bc-e0fe00f18b22"
      },
      "execution_count": null,
      "outputs": [
        {
          "output_type": "stream",
          "name": "stdout",
          "text": [
            "Masukkan tanggal lahir Anda: 2205\n",
            "Elemen ditemukan pada indeks 4\n"
          ]
        }
      ]
    },
    {
      "cell_type": "code",
      "source": [
        "#implementasi jump search\n",
        "import math\n",
        "\n",
        "def jump_search(arr, target):\n",
        "  n = len(arr)\n",
        "  step = int(math.sqrt(n))\n",
        "  prev = 0\n",
        "\n",
        "  while arr[min(step, n) - 1] < target:\n",
        "    prev = step\n",
        "    step += int(math.sqrt(n))\n",
        "    if prev >= n:\n",
        "      return -1\n",
        "\n",
        "  for i in range(prev, min(step, n)):\n",
        "    if arr[i] == target:\n",
        "      return i\n",
        "  return -1\n",
        "\n",
        "#ganti nama dan tambahkan nama\n",
        "arr = [\"Ayato\", \"Baizhu\", \"Cyno\", \"Diluc\", \"Emilie\", \"Fia\", \"Gaming\", \"Hutao\", \"Itto\"]\n",
        "target = input(\"Masukkan inisial nama Anda: \")\n",
        "\n",
        "result = jump_search(arr, target)\n",
        "\n",
        "if result != -1:\n",
        "  print (f\"Elemen ditemukan pada indeks {result}\")\n",
        "else:\n",
        "  print (\"Elemen tidak ditemukan\")\n"
      ],
      "metadata": {
        "colab": {
          "base_uri": "https://localhost:8080/"
        },
        "id": "l2ulYRARPRZK",
        "outputId": "73c08be4-f4c6-44c7-b326-4c685c81618b"
      },
      "execution_count": null,
      "outputs": [
        {
          "output_type": "stream",
          "name": "stdout",
          "text": [
            "Masukkan inisial nama Anda: Fia\n",
            "Elemen ditemukan pada indeks 5\n"
          ]
        }
      ]
    },
    {
      "cell_type": "code",
      "source": [],
      "metadata": {
        "id": "jV_2Sy0wlSaD"
      },
      "execution_count": null,
      "outputs": []
    }
  ]
}