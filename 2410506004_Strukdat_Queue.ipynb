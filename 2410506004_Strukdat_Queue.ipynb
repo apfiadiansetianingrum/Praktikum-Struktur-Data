{
  "nbformat": 4,
  "nbformat_minor": 0,
  "metadata": {
    "colab": {
      "provenance": [],
      "authorship_tag": "ABX9TyN4jbjYB8wKX3P7MFI0vGk+",
      "include_colab_link": true
    },
    "kernelspec": {
      "name": "python3",
      "display_name": "Python 3"
    },
    "language_info": {
      "name": "python"
    }
  },
  "cells": [
    {
      "cell_type": "markdown",
      "metadata": {
        "id": "view-in-github",
        "colab_type": "text"
      },
      "source": [
        "<a href=\"https://colab.research.google.com/github/apfiadiansetianingrum/Praktikum-Struktur-Data/blob/main/2410506004_Strukdat_Queue.ipynb\" target=\"_parent\"><img src=\"https://colab.research.google.com/assets/colab-badge.svg\" alt=\"Open In Colab\"/></a>"
      ]
    },
    {
      "cell_type": "code",
      "execution_count": null,
      "metadata": {
        "colab": {
          "base_uri": "https://localhost:8080/"
        },
        "id": "o39W260dJ-IL",
        "outputId": "ce6ee296-0669-452e-a893-0c546b55d5f4"
      },
      "outputs": [
        {
          "output_type": "stream",
          "name": "stdout",
          "text": [
            "Queue setelah enqueue: [10, 20, 30]\n",
            "Dequeued element: 10\n",
            "Front element: 20\n",
            "Rear element: 30\n",
            "Queue size: 2\n"
          ]
        }
      ],
      "source": [
        "#contoh 1 implementasi queue dengan list\n",
        "class QueueList:\n",
        "  def __init__(self):\n",
        "    self.queue = []\n",
        "\n",
        "  def enqueue(self, item):\n",
        "    self.queue.append(item)\n",
        "\n",
        "  def dequeue(self):\n",
        "    if not self.is_empty():\n",
        "      return self.queue.pop(0)\n",
        "    return None\n",
        "\n",
        "  def front(self):\n",
        "    return self.queue[0] if not self.is_empty() else None\n",
        "\n",
        "  def rear(self):\n",
        "    return self.queue[-1] if not self.is_empty() else None\n",
        "\n",
        "  def is_empty(self):\n",
        "    return len(self.queue) == 0\n",
        "\n",
        "  def size(self):\n",
        "    return len(self.queue)\n",
        "\n",
        "# Contoh penggunaan\n",
        "queue = QueueList()\n",
        "queue.enqueue(10)\n",
        "queue.enqueue(20)\n",
        "queue.enqueue(30)\n",
        "print (\"Queue setelah enqueue:\", queue.queue)\n",
        "print (\"Dequeued element:\", queue.dequeue())\n",
        "print (\"Front element:\", queue.front ())\n",
        "print (\"Rear element:\", queue.rear())\n",
        "print (\"Queue size:\", queue.size())\n"
      ]
    },
    {
      "cell_type": "code",
      "source": [
        "#contoh 2 implementasi dengan collections.dequeue\n",
        "from collections import deque\n",
        "\n",
        "# Implementasi Queue menggunakan deque\n",
        "class QueueDeque:\n",
        "  def __init__(self):\n",
        "    self.queue = deque()\n",
        "\n",
        "  def enqueue(self, item):\n",
        "    self.queue.append (item)\n",
        "\n",
        "  def dequeue (self):\n",
        "    return self.queue.popleft () if not self.is_empty() else None\n",
        "\n",
        "  def front(self):\n",
        "    return self.queue[0] if not self.is_empty() else None\n",
        "\n",
        "  def rear(self):\n",
        "    return self.queue[-1] if not self.is_empty() else None\n",
        "\n",
        "  def is_empty(self):\n",
        "    return len(self.queue) == 0\n",
        "\n",
        "  def size(self):\n",
        "    return len(self.queue)\n",
        "\n",
        "#Contoh penggunaan\n",
        "queue = QueueDeque ()\n",
        "queue.enqueue (10)\n",
        "queue.enqueue (20)\n",
        "queue.enqueue (30)\n",
        "print (\"Queue setelah enqueue:\", list(queue.queue))\n",
        "print (\"Dequeued element:\", queue.dequeue())\n",
        "print (\"Front element:\", queue.front ())\n",
        "print (\"Rear element:\", queue.rear())\n",
        "print (\"Queue size:\", queue.size())\n"
      ],
      "metadata": {
        "colab": {
          "base_uri": "https://localhost:8080/"
        },
        "id": "fnLttk4wN7WS",
        "outputId": "39b151d5-92df-48ca-a26d-12bb240af3a1"
      },
      "execution_count": null,
      "outputs": [
        {
          "output_type": "stream",
          "name": "stdout",
          "text": [
            "Queue setelah enqueue: [10, 20, 30]\n",
            "Dequeued element: 10\n",
            "Front element: 20\n",
            "Rear element: 30\n",
            "Queue size: 2\n"
          ]
        }
      ]
    },
    {
      "cell_type": "code",
      "source": [
        "#contoh 3 implementasi queue dengan queue.queue\n",
        "\n",
        "from queue import Queue\n",
        "\n",
        "queue = Queue()\n",
        "\n",
        "queue.put(10)\n",
        "queue.put(20)\n",
        "queue.put(30)\n",
        "\n",
        "print(\"Queue size:\", queue.qsize())\n",
        "print(\"Dequeued element:\", queue.get())\n",
        "print(\"Queue size setelah dequeue:\", queue.qsize())"
      ],
      "metadata": {
        "colab": {
          "base_uri": "https://localhost:8080/"
        },
        "id": "SCGUzOvUSCp7",
        "outputId": "136afc00-1131-46fc-b720-aa48e1090a0e"
      },
      "execution_count": null,
      "outputs": [
        {
          "output_type": "stream",
          "name": "stdout",
          "text": [
            "Queue size: 3\n",
            "Dequeued element: 10\n",
            "Queue size setelah dequeue: 2\n"
          ]
        }
      ]
    },
    {
      "cell_type": "code",
      "source": [
        "#contoh4 implementasi queue dengan linkeed list\n",
        "class Node:\n",
        "  def __init__(self, data):\n",
        "    self.data = data\n",
        "    self.next = None\n",
        "\n",
        "class QueueLinkedList:\n",
        "  def __init__(self):\n",
        "    self.front = self.rear = None\n",
        "\n",
        "  def enqueue(self, data):\n",
        "    new_node = Node (data)\n",
        "    if self.rear is None:\n",
        "      self.front = self.rear = new_node\n",
        "      return\n",
        "    self.rear.next = new_node\n",
        "    self.rear = new_node\n",
        "\n",
        "  def dequeue (self):\n",
        "    if self.front is None:\n",
        "      return None\n",
        "    dequeued_element = self.front.data\n",
        "    self.front = self.front.next\n",
        "    if self.front is None:\n",
        "      self.rear = None\n",
        "    return dequeued_element\n",
        "\n",
        "  def is_empty(self):\n",
        "    return self.front is None\n",
        "\n",
        "  def front_element (self):\n",
        "    return self.front.data if self.front else None\n",
        "\n",
        "  def rear_element (self):\n",
        "    return self.rear.data if self.rear else None\n",
        "\n",
        "# Contoh penggunaan\n",
        "queue = QueueLinkedList()\n",
        "queue.enqueue(10)\n",
        "queue.enqueue(20)\n",
        "queue.enqueue(30)\n",
        "print (\"Dequeued element:\", queue.dequeue())\n",
        "print (\"Front element:\", queue.front_element())\n",
        "print (\"Rear element:\", queue.rear_element())\n"
      ],
      "metadata": {
        "colab": {
          "base_uri": "https://localhost:8080/"
        },
        "id": "gIudG1eFSdN6",
        "outputId": "272948f5-6386-4d1f-9422-38aae6e429e3"
      },
      "execution_count": null,
      "outputs": [
        {
          "output_type": "stream",
          "name": "stdout",
          "text": [
            "Dequeued element: 10\n",
            "Front element: 20\n",
            "Rear element: 30\n"
          ]
        }
      ]
    }
  ]
}