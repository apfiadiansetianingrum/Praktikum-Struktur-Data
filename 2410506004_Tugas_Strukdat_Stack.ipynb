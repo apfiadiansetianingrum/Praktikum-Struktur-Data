{
  "nbformat": 4,
  "nbformat_minor": 0,
  "metadata": {
    "colab": {
      "provenance": [],
      "authorship_tag": "ABX9TyN3Fvz7d8ICAXsVcI6I4CXK",
      "include_colab_link": true
    },
    "kernelspec": {
      "name": "python3",
      "display_name": "Python 3"
    },
    "language_info": {
      "name": "python"
    }
  },
  "cells": [
    {
      "cell_type": "markdown",
      "metadata": {
        "id": "view-in-github",
        "colab_type": "text"
      },
      "source": [
        "<a href=\"https://colab.research.google.com/github/apfiadiansetianingrum/Praktikum-Struktur-Data/blob/main/2410506004_Tugas_Strukdat_Stack.ipynb\" target=\"_parent\"><img src=\"https://colab.research.google.com/assets/colab-badge.svg\" alt=\"Open In Colab\"/></a>"
      ]
    },
    {
      "cell_type": "code",
      "execution_count": null,
      "metadata": {
        "colab": {
          "base_uri": "https://localhost:8080/"
        },
        "id": "Dt2_cydSG3ce",
        "outputId": "011dea8f-a457-4ad2-805f-4b057aedc779"
      },
      "outputs": [
        {
          "output_type": "stream",
          "name": "stdout",
          "text": [
            "Keadaan awal: [1, 2, 3]\n",
            "Memindahkan cakram 1 dari A ke C\n",
            "Memindahkan cakram 2 dari A ke B\n",
            "Memindahkan cakram 1 dari C ke B\n",
            "Memindahkan cakram 3 dari A ke C\n",
            "Keadaan akhir tiang A: []\n",
            "Keadaan akhir tiang B: [1, 2]\n",
            "Keadaan akhir tiang C: [3]\n"
          ]
        }
      ],
      "source": [
        "class Stack:\n",
        "    def __init__(self):\n",
        "        self.items = []\n",
        "\n",
        "    def push(self, item):\n",
        "        self.items.append(item)\n",
        "\n",
        "    def pop(self):\n",
        "        if not self.is_empty():\n",
        "            return self.items.pop()\n",
        "        return None\n",
        "\n",
        "    def is_empty(self):\n",
        "        return len(self.items) == 0\n",
        "\n",
        "    def peek(self):\n",
        "        return self.items[-1] if not self.is_empty() else None\n",
        "\n",
        "    def size(self):\n",
        "        return len(self.items)\n",
        "\n",
        "    def show(self):\n",
        "        return self.items[::-1]\n",
        "\n",
        "def move_disk(source, target, source_name, target_name):\n",
        "    if not source.is_empty():\n",
        "        disk = source.pop()\n",
        "        target.push(disk)\n",
        "        print(f\"Memindahkan cakram {disk} dari {source_name} ke {target_name}\")\n",
        "\n",
        "def tower_of_hanoi(n, source, auxiliary, target, source_name, auxiliary_name, target_name, max_steps, steps=[0]):\n",
        "    if n > 0 and steps[0] < max_steps:\n",
        "        tower_of_hanoi(n-1, source, target, auxiliary, source_name, target_name, auxiliary_name, max_steps, steps)\n",
        "\n",
        "        if steps[0] < max_steps:\n",
        "            move_disk(source, target, source_name, target_name)\n",
        "            steps[0] += 1\n",
        "\n",
        "        tower_of_hanoi(n-1, auxiliary, source, target, auxiliary_name, source_name, target_name, max_steps, steps)\n",
        "\n",
        "n = 3\n",
        "max_steps = 4\n",
        "source = Stack()\n",
        "auxiliary = Stack()\n",
        "target = Stack()\n",
        "\n",
        "for i in range(n, 0, -1):\n",
        "    source.push(i)\n",
        "\n",
        "print(\"Keadaan awal:\", source.show())\n",
        "\n",
        "tower_of_hanoi(n, source, auxiliary, target, \"A\", \"B\", \"C\", max_steps)\n",
        "\n",
        "print(\"Keadaan akhir tiang A:\", source.show())\n",
        "print(\"Keadaan akhir tiang B:\", auxiliary.show())\n",
        "print(\"Keadaan akhir tiang C:\", target.show())\n"
      ]
    },
    {
      "cell_type": "code",
      "source": [],
      "metadata": {
        "id": "Kt9EacmQH5L6"
      },
      "execution_count": null,
      "outputs": []
    }
  ]
}